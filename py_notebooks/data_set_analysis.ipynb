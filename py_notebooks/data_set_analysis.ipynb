{
 "cells": [
  {
   "cell_type": "markdown",
   "source": [
    "# DebruijnExtend Dataset Analysis\n",
    "This python notebook can be used to perform an analysis of the the datasets being used to train and test."
   ],
   "metadata": {}
  },
  {
   "cell_type": "code",
   "execution_count": 1,
   "source": [
    "#imports\n",
    "import numpy as np\n",
    "import matplotlib.pyplot as plt\n",
    "import pandas as pd\n",
    "from sklearn.model_selection import train_test_split\n",
    "from sklearn.model_selection import KFold"
   ],
   "outputs": [],
   "metadata": {}
  },
  {
   "cell_type": "code",
   "execution_count": 2,
   "source": [
    "# PATHS\n",
    "dataset = \"../data/primary2secondary.csv\"\n",
    "csv_column_names = ['sequence length', 'PDB name', 'Proten Sequence', '8 char', '3 char', '1 char']\n",
    "seq_length_column = 0\n",
    "pdb_name_column = 1\n",
    "protein_column = 2\n",
    "secondary_column = 4 \n"
   ],
   "outputs": [],
   "metadata": {}
  },
  {
   "cell_type": "code",
   "execution_count": 3,
   "source": [
    "df = pd.read_csv(dataset, header=None, usecols=[seq_length_column,\n",
    "                                                pdb_name_column, \n",
    "                                                protein_column, \n",
    "                                                secondary_column])\n",
    "df.columns = ['sequence length', 'PDB name', 'Proten Sequence', '3 char']"
   ],
   "outputs": [],
   "metadata": {}
  },
  {
   "cell_type": "code",
   "execution_count": 4,
   "source": [
    "# assort by length, drop duplicates proteins/chains (by PDB name)\n",
    "df_sorted = df.sort_values(by = 'sequence length', ascending = False)\n",
    "df_unique = df_sorted.drop_duplicates(subset = [\"PDB name\"])\n",
    "df_unique = df_unique.drop_duplicates()\n",
    "df_unique.duplicated(keep=False).sum()\n"
   ],
   "outputs": [
    {
     "output_type": "execute_result",
     "data": {
      "text/plain": [
       "0"
      ]
     },
     "metadata": {},
     "execution_count": 4
    }
   ],
   "metadata": {}
  },
  {
   "cell_type": "code",
   "execution_count": 5,
   "source": [
    "print(\"Before filtering:\")\n",
    "df[\"sequence length\"].describe()"
   ],
   "outputs": [
    {
     "output_type": "stream",
     "name": "stdout",
     "text": [
      "Before filtering:\n"
     ]
    },
    {
     "output_type": "execute_result",
     "data": {
      "text/plain": [
       "count    393732.000000\n",
       "mean        260.212634\n",
       "std         196.864409\n",
       "min           3.000000\n",
       "25%         131.000000\n",
       "50%         223.000000\n",
       "75%         336.000000\n",
       "max        5037.000000\n",
       "Name: sequence length, dtype: float64"
      ]
     },
     "metadata": {},
     "execution_count": 5
    }
   ],
   "metadata": {}
  },
  {
   "cell_type": "code",
   "execution_count": 6,
   "source": [
    "print(\"After filtering:\")\n",
    "df_unique[\"sequence length\"].describe()"
   ],
   "outputs": [
    {
     "output_type": "stream",
     "name": "stdout",
     "text": [
      "After filtering:\n"
     ]
    },
    {
     "output_type": "execute_result",
     "data": {
      "text/plain": [
       "count    139496.000000\n",
       "mean        297.846863\n",
       "std         209.231296\n",
       "min           5.000000\n",
       "25%         157.000000\n",
       "50%         261.000000\n",
       "75%         372.000000\n",
       "max        5037.000000\n",
       "Name: sequence length, dtype: float64"
      ]
     },
     "metadata": {},
     "execution_count": 6
    }
   ],
   "metadata": {}
  },
  {
   "cell_type": "code",
   "execution_count": 7,
   "source": [
    "train, test = train_test_split(df_unique, test_size=0.2)"
   ],
   "outputs": [],
   "metadata": {}
  },
  {
   "cell_type": "code",
   "execution_count": 8,
   "source": [
    "train.describe()"
   ],
   "outputs": [
    {
     "output_type": "execute_result",
     "data": {
      "text/plain": [
       "       sequence length\n",
       "count    111596.000000\n",
       "mean        297.601025\n",
       "std         208.861733\n",
       "min           5.000000\n",
       "25%         157.000000\n",
       "50%         261.000000\n",
       "75%         373.000000\n",
       "max        5037.000000"
      ],
      "text/html": [
       "<div>\n",
       "<style scoped>\n",
       "    .dataframe tbody tr th:only-of-type {\n",
       "        vertical-align: middle;\n",
       "    }\n",
       "\n",
       "    .dataframe tbody tr th {\n",
       "        vertical-align: top;\n",
       "    }\n",
       "\n",
       "    .dataframe thead th {\n",
       "        text-align: right;\n",
       "    }\n",
       "</style>\n",
       "<table border=\"1\" class=\"dataframe\">\n",
       "  <thead>\n",
       "    <tr style=\"text-align: right;\">\n",
       "      <th></th>\n",
       "      <th>sequence length</th>\n",
       "    </tr>\n",
       "  </thead>\n",
       "  <tbody>\n",
       "    <tr>\n",
       "      <th>count</th>\n",
       "      <td>111596.000000</td>\n",
       "    </tr>\n",
       "    <tr>\n",
       "      <th>mean</th>\n",
       "      <td>297.601025</td>\n",
       "    </tr>\n",
       "    <tr>\n",
       "      <th>std</th>\n",
       "      <td>208.861733</td>\n",
       "    </tr>\n",
       "    <tr>\n",
       "      <th>min</th>\n",
       "      <td>5.000000</td>\n",
       "    </tr>\n",
       "    <tr>\n",
       "      <th>25%</th>\n",
       "      <td>157.000000</td>\n",
       "    </tr>\n",
       "    <tr>\n",
       "      <th>50%</th>\n",
       "      <td>261.000000</td>\n",
       "    </tr>\n",
       "    <tr>\n",
       "      <th>75%</th>\n",
       "      <td>373.000000</td>\n",
       "    </tr>\n",
       "    <tr>\n",
       "      <th>max</th>\n",
       "      <td>5037.000000</td>\n",
       "    </tr>\n",
       "  </tbody>\n",
       "</table>\n",
       "</div>"
      ]
     },
     "metadata": {},
     "execution_count": 8
    }
   ],
   "metadata": {}
  },
  {
   "cell_type": "code",
   "execution_count": 9,
   "source": [
    "df_unique.to_csv(f'testingDS_{K+1}.csv', index=False)"
   ],
   "outputs": [
    {
     "output_type": "error",
     "ename": "NameError",
     "evalue": "name 'K' is not defined",
     "traceback": [
      "\u001b[0;31m---------------------------------------------------------------------------\u001b[0m",
      "\u001b[0;31mNameError\u001b[0m                                 Traceback (most recent call last)",
      "\u001b[0;32m<ipython-input-9-b23c8c1dbdd3>\u001b[0m in \u001b[0;36m<module>\u001b[0;34m\u001b[0m\n\u001b[0;32m----> 1\u001b[0;31m \u001b[0mdf_unique\u001b[0m\u001b[0;34m.\u001b[0m\u001b[0mto_csv\u001b[0m\u001b[0;34m(\u001b[0m\u001b[0;34mf'testingDS_{K+1}.csv'\u001b[0m\u001b[0;34m,\u001b[0m \u001b[0mindex\u001b[0m\u001b[0;34m=\u001b[0m\u001b[0;32mFalse\u001b[0m\u001b[0;34m)\u001b[0m\u001b[0;34m\u001b[0m\u001b[0;34m\u001b[0m\u001b[0m\n\u001b[0m",
      "\u001b[0;31mNameError\u001b[0m: name 'K' is not defined"
     ]
    }
   ],
   "metadata": {}
  },
  {
   "cell_type": "code",
   "execution_count": 17,
   "source": [
    "# split the dataset into testing and training\n",
    "### 1.A. create CSV outputs for all - testing_[N].csv, training_[N].csv\n",
    "### 1.B. create hash table for training - training_[N].p\n",
    "import sys\n",
    "sys.path.append(\"/Users/dreyceyalbin/Dropbox/Fall2020-classes/Algorithms/project/DebruijnExtend/py_scripts\")\n",
    "from csvtohash import ProteinHash\n",
    "import pickle\n",
    "# Parameters\n",
    "NUMBER_OF_FOLDS = 5\n",
    "kmer_size = 3\n",
    "\n",
    "kf = KFold(n_splits = NUMBER_OF_FOLDS) #, shuffle = True, random_state = 2)\n",
    "for K, fold in enumerate(kf.split(df_unique)):\n",
    "    print(f\"\\n working on fold number: {K}\")\n",
    "    train, test = 0, 0\n",
    "    train = df_unique.iloc[fold[0]]\n",
    "    test =  df_unique.iloc[fold[1]]\n",
    "    print(f\" Creating training and testing CSVs..\")\n",
    "    train.to_csv(f'training_{K+1}.csv', index=False)\n",
    "    test.to_csv(f'testing_{K+1}.csv', index=False)\n",
    "    # print(train[\"PDB name\"].duplicated().sum())\n",
    "    # print(test[\"PDB name\"].duplicated().sum())\n",
    "    # print(train[\"PDB name\"].count() + test[\"PDB name\"].count())\n",
    "    # print(test[\"PDB name\"].count())\n",
    "    # print(df_unique[\"PDB name\"].count())\n",
    "    print(f\"Creating a hash tables for the training CSV..\")\n",
    "    prothashOBJ = ProteinHash(f'training_{K+1}.csv', kmer_size)\n",
    "    prothashtable = prothashOBJ.construct_hash()\n",
    "    outfile = open(f'testing_{K+1}.pickle','wb')\n",
    "    pickle.dump(prothashtable, outfile)\n",
    "    "
   ],
   "outputs": [
    {
     "output_type": "stream",
     "name": "stdout",
     "text": [
      "working on fold number: 0\n",
      " \n",
      "\n",
      " Creating training and testing CSVs..\n"
     ]
    },
    {
     "output_type": "stream",
     "name": "stderr",
     "text": [
      "0it [00:00, ?it/s]"
     ]
    },
    {
     "output_type": "stream",
     "name": "stdout",
     "text": [
      " \n",
      "\n",
      " Creating a hash tables for the training CSV..\n"
     ]
    },
    {
     "output_type": "stream",
     "name": "stderr",
     "text": [
      "111597it [00:08, 13396.81it/s]\n"
     ]
    },
    {
     "output_type": "stream",
     "name": "stdout",
     "text": [
      "working on fold number: 1\n",
      " \n",
      "\n",
      " Creating training and testing CSVs..\n"
     ]
    },
    {
     "output_type": "stream",
     "name": "stderr",
     "text": [
      "0it [00:00, ?it/s]"
     ]
    },
    {
     "output_type": "stream",
     "name": "stdout",
     "text": [
      " \n",
      "\n",
      " Creating a hash tables for the training CSV..\n"
     ]
    },
    {
     "output_type": "stream",
     "name": "stderr",
     "text": [
      "111598it [00:08, 13377.75it/s]\n"
     ]
    },
    {
     "output_type": "stream",
     "name": "stdout",
     "text": [
      "working on fold number: 2\n",
      " \n",
      "\n",
      " Creating training and testing CSVs..\n",
      " \n",
      "\n",
      " Creating a hash tables for the training CSV..\n"
     ]
    },
    {
     "output_type": "stream",
     "name": "stderr",
     "text": [
      "79256it [00:05, 13881.04it/s]"
     ]
    }
   ],
   "metadata": {}
  },
  {
   "cell_type": "code",
   "execution_count": 149,
   "source": [
    "# TODO:\n",
    "## 1. turn the splits into K sets of testing/training\n",
    "### 1.A. create CSV outputs for all - testing_[N].csv, training_[N].csv\n",
    "### 1.B. create hash table for training - training_[N].p\n",
    "### 1.C. create fasta file input for the testing - testing_[N].fasta"
   ],
   "outputs": [],
   "metadata": {}
  },
  {
   "cell_type": "code",
   "execution_count": 148,
   "source": [
    "# TODO (Benchmarking):\n",
    "## 1. create a testing/training split.\n",
    "### 1.A. Create a training set (N=?)\n",
    "### 1.B. Create a testing set that does not overlap training (N=100)\n",
    "## 2. Benchmarking the tools.\n",
    "### 2.A. Download several tools, ensure each tool can be downloaded/installed with a button push.\n",
    "### 2.B. Automate the benchmarking with a BASH script or python script with subcalls."
   ],
   "outputs": [
    {
     "output_type": "execute_result",
     "data": {
      "text/plain": [
       "        sequence length PDB name  \\\n",
       "0                     3   '1A30'   \n",
       "1                     3   '1B05'   \n",
       "2                     3   '1B0H'   \n",
       "4                     3   '1B2H'   \n",
       "5                     3   '1B32'   \n",
       "...                 ...      ...   \n",
       "139491              166   '1G2I'   \n",
       "139492              166   '1G5M'   \n",
       "139493              166   '1GJH'   \n",
       "139494              166   '1GNP'   \n",
       "139495              166   '1GNQ'   \n",
       "\n",
       "                                          Proten Sequence  \\\n",
       "0                                                   'EDL'   \n",
       "1                                                   'KCK'   \n",
       "2                                                   'KAK'   \n",
       "4                                                   'KAK'   \n",
       "5                                                   'KMK'   \n",
       "...                                                   ...   \n",
       "139491  'MKVLFLTANEFEDVELIYPYHRLKEEGHEVYIASFERGTITGKHG...   \n",
       "139492  'MAHAGRTGYDNREIVMKYIHYKLSQRGYEWDAGDDVEENRTEAPE...   \n",
       "139493  'MAHAGRTGYDNREIVMKYIHYKLSQRGYEWDAGDDVEENRTEAPE...   \n",
       "139494  'MTEYKLVVVGAGGVGKSALTIQLIQNHFVDEYDPTIEDSYRKQVV...   \n",
       "139495  'MTEYKLVVVGAGGVGKSALTIQLIQNHFVDEYDPTIEDSYRKQVV...   \n",
       "\n",
       "                                                   3 char  \n",
       "0                                                   'CEC'  \n",
       "1                                                   'CEC'  \n",
       "2                                                   'CEC'  \n",
       "4                                                   'CEC'  \n",
       "5                                                   'CEC'  \n",
       "...                                                   ...  \n",
       "139491  'CEEEEECCCCECHHHHHHHHHHHHHHCCEEEEEECCCEEEECCCC...  \n",
       "139492  'CCCCCCCCCCHHHHHHHHHHHHHHCCCCCCCCCCCCCCCCCCCCC...  \n",
       "139493  'CCCCCCCCCCHHHHHHHHHHHHHHCCCCCCCCCCCCCCCCCCCCC...  \n",
       "139494  'CEEEEEEEECCCCCCHHHHHHHHHHCCCCCCCCCCCEEEEEEEEE...  \n",
       "139495  'CEEEEEEEEECCCCCHHHHHHHHCCCCCCCCCCCCCCEEEEEEEE...  \n",
       "\n",
       "[125547 rows x 4 columns]"
      ],
      "text/html": [
       "<div>\n",
       "<style scoped>\n",
       "    .dataframe tbody tr th:only-of-type {\n",
       "        vertical-align: middle;\n",
       "    }\n",
       "\n",
       "    .dataframe tbody tr th {\n",
       "        vertical-align: top;\n",
       "    }\n",
       "\n",
       "    .dataframe thead th {\n",
       "        text-align: right;\n",
       "    }\n",
       "</style>\n",
       "<table border=\"1\" class=\"dataframe\">\n",
       "  <thead>\n",
       "    <tr style=\"text-align: right;\">\n",
       "      <th></th>\n",
       "      <th>sequence length</th>\n",
       "      <th>PDB name</th>\n",
       "      <th>Proten Sequence</th>\n",
       "      <th>3 char</th>\n",
       "    </tr>\n",
       "  </thead>\n",
       "  <tbody>\n",
       "    <tr>\n",
       "      <th>0</th>\n",
       "      <td>3</td>\n",
       "      <td>'1A30'</td>\n",
       "      <td>'EDL'</td>\n",
       "      <td>'CEC'</td>\n",
       "    </tr>\n",
       "    <tr>\n",
       "      <th>1</th>\n",
       "      <td>3</td>\n",
       "      <td>'1B05'</td>\n",
       "      <td>'KCK'</td>\n",
       "      <td>'CEC'</td>\n",
       "    </tr>\n",
       "    <tr>\n",
       "      <th>2</th>\n",
       "      <td>3</td>\n",
       "      <td>'1B0H'</td>\n",
       "      <td>'KAK'</td>\n",
       "      <td>'CEC'</td>\n",
       "    </tr>\n",
       "    <tr>\n",
       "      <th>4</th>\n",
       "      <td>3</td>\n",
       "      <td>'1B2H'</td>\n",
       "      <td>'KAK'</td>\n",
       "      <td>'CEC'</td>\n",
       "    </tr>\n",
       "    <tr>\n",
       "      <th>5</th>\n",
       "      <td>3</td>\n",
       "      <td>'1B32'</td>\n",
       "      <td>'KMK'</td>\n",
       "      <td>'CEC'</td>\n",
       "    </tr>\n",
       "    <tr>\n",
       "      <th>...</th>\n",
       "      <td>...</td>\n",
       "      <td>...</td>\n",
       "      <td>...</td>\n",
       "      <td>...</td>\n",
       "    </tr>\n",
       "    <tr>\n",
       "      <th>139491</th>\n",
       "      <td>166</td>\n",
       "      <td>'1G2I'</td>\n",
       "      <td>'MKVLFLTANEFEDVELIYPYHRLKEEGHEVYIASFERGTITGKHG...</td>\n",
       "      <td>'CEEEEECCCCECHHHHHHHHHHHHHHCCEEEEEECCCEEEECCCC...</td>\n",
       "    </tr>\n",
       "    <tr>\n",
       "      <th>139492</th>\n",
       "      <td>166</td>\n",
       "      <td>'1G5M'</td>\n",
       "      <td>'MAHAGRTGYDNREIVMKYIHYKLSQRGYEWDAGDDVEENRTEAPE...</td>\n",
       "      <td>'CCCCCCCCCCHHHHHHHHHHHHHHCCCCCCCCCCCCCCCCCCCCC...</td>\n",
       "    </tr>\n",
       "    <tr>\n",
       "      <th>139493</th>\n",
       "      <td>166</td>\n",
       "      <td>'1GJH'</td>\n",
       "      <td>'MAHAGRTGYDNREIVMKYIHYKLSQRGYEWDAGDDVEENRTEAPE...</td>\n",
       "      <td>'CCCCCCCCCCHHHHHHHHHHHHHHCCCCCCCCCCCCCCCCCCCCC...</td>\n",
       "    </tr>\n",
       "    <tr>\n",
       "      <th>139494</th>\n",
       "      <td>166</td>\n",
       "      <td>'1GNP'</td>\n",
       "      <td>'MTEYKLVVVGAGGVGKSALTIQLIQNHFVDEYDPTIEDSYRKQVV...</td>\n",
       "      <td>'CEEEEEEEECCCCCCHHHHHHHHHHCCCCCCCCCCCEEEEEEEEE...</td>\n",
       "    </tr>\n",
       "    <tr>\n",
       "      <th>139495</th>\n",
       "      <td>166</td>\n",
       "      <td>'1GNQ'</td>\n",
       "      <td>'MTEYKLVVVGAGGVGKSALTIQLIQNHFVDEYDPTIEDSYRKQVV...</td>\n",
       "      <td>'CEEEEEEEEECCCCCHHHHHHHHCCCCCCCCCCCCCCEEEEEEEE...</td>\n",
       "    </tr>\n",
       "  </tbody>\n",
       "</table>\n",
       "<p>125547 rows × 4 columns</p>\n",
       "</div>"
      ]
     },
     "metadata": {},
     "execution_count": 148
    }
   ],
   "metadata": {}
  }
 ],
 "metadata": {
  "kernelspec": {
   "name": "python3",
   "display_name": "Python 3.9.7 64-bit ('advancedNLP': conda)"
  },
  "language_info": {
   "codemirror_mode": {
    "name": "ipython",
    "version": 3
   },
   "file_extension": ".py",
   "mimetype": "text/x-python",
   "name": "python",
   "nbconvert_exporter": "python",
   "pygments_lexer": "ipython3",
   "version": "3.9.7"
  },
  "interpreter": {
   "hash": "37f8066621b9c20950eb2eab583199745a68ce775e2d71e73e7181daa55112e7"
  }
 },
 "nbformat": 4,
 "nbformat_minor": 5
}