{
 "cells": [
  {
   "cell_type": "markdown",
   "id": "43d3edd1",
   "metadata": {},
   "source": [
    "# KNN analysis\n",
    "\n",
    "This jupyter notebook was used to benchmark the KNN aproach to finding similiar kmers."
   ]
  },
  {
   "cell_type": "code",
   "execution_count": 64,
   "id": "e46bb7c5",
   "metadata": {},
   "outputs": [],
   "source": [
    "import pickle\n",
    "import numpy as np\n",
    "from tqdm import tqdm\n",
    "import random\n",
    "import matplotlib.pyplot as plt\n",
    "from enum import Enum"
   ]
  },
  {
   "cell_type": "code",
   "execution_count": 110,
   "id": "e6c768ba",
   "metadata": {},
   "outputs": [],
   "source": [
    "#paths\n",
    "\n",
    "hashpath = \"../../HashtableData/hashtable_k6.pickle\""
   ]
  },
  {
   "cell_type": "code",
   "execution_count": 111,
   "id": "7f6e92ea",
   "metadata": {},
   "outputs": [],
   "source": [
    "with open(hashpath, \"rb\") as hash_tb:\n",
    "    hash_table = pickle.load(hash_tb)"
   ]
  },
  {
   "cell_type": "code",
   "execution_count": 112,
   "id": "9e1c6dff",
   "metadata": {},
   "outputs": [],
   "source": [
    "keys = random.sample(list(hash_table.keys()), 200)\n",
    "hash_table = {k: hash_table[k] for k in keys}"
   ]
  },
  {
   "cell_type": "code",
   "execution_count": 113,
   "id": "90ad4282",
   "metadata": {},
   "outputs": [
    {
     "data": {
      "text/plain": [
       "['MMKLGA',\n",
       " 'VHGKVG',\n",
       " 'KIIGQF',\n",
       " 'MHRVGS',\n",
       " 'VSNLLQ',\n",
       " 'MKHGAD',\n",
       " 'HQPRLL',\n",
       " 'KLLEGL',\n",
       " 'KTTLKR',\n",
       " 'DCHVLK']"
      ]
     },
     "execution_count": 113,
     "metadata": {},
     "output_type": "execute_result"
    }
   ],
   "source": [
    "list(hash_table.keys())[:10]"
   ]
  },
  {
   "cell_type": "markdown",
   "id": "c1d0942e",
   "metadata": {},
   "source": [
    "# Testing Distance Methods\n",
    "\n"
   ]
  },
  {
   "cell_type": "code",
   "execution_count": 129,
   "id": "27f4e8a4",
   "metadata": {},
   "outputs": [],
   "source": [
    "def hamming_dist(k1, k2):\n",
    "    val = 0\n",
    "    for ind, char in enumerate(k1):\n",
    "        if char != k2[ind]: val += 1\n",
    "    return val\n",
    "\n",
    "class AAChemTypes(Enum):\n",
    "    \"\"\" Numerical representation of amino acid bin\"\"\"\n",
    "    polar = \"0\"\n",
    "    non_polar = \"1\"\n",
    "    basic = \"2\"\n",
    "    acidic = \"3\"\n",
    "    special = \"4\"\n",
    "    \n",
    "amino2chemistry = {\n",
    "    # acidic\n",
    "    \"R\" : AAChemTypes.acidic,\n",
    "    \"H\" : AAChemTypes.acidic,\n",
    "    \"K\" : AAChemTypes.acidic,\n",
    "    # basic\n",
    "    \"D\" : AAChemTypes.basic,\n",
    "    \"E\" : AAChemTypes.basic,\n",
    "    # polar\n",
    "    \"S\" : AAChemTypes.polar,\n",
    "    \"T\" : AAChemTypes.polar,\n",
    "    \"N\" : AAChemTypes.polar,\n",
    "    \"Q\" : AAChemTypes.polar,\n",
    "    # non-polar\n",
    "    \"A\" : AAChemTypes.non_polar,\n",
    "    \"V\" : AAChemTypes.non_polar,\n",
    "    \"I\" : AAChemTypes.non_polar,\n",
    "    \"L\" : AAChemTypes.non_polar,\n",
    "    \"M\" : AAChemTypes.non_polar,\n",
    "    \"F\" : AAChemTypes.non_polar,\n",
    "    \"Y\" : AAChemTypes.non_polar,\n",
    "    \"W\" : AAChemTypes.non_polar,\n",
    "    # special\n",
    "    \"C\" : AAChemTypes.special,\n",
    "    \"G\" : AAChemTypes.special,\n",
    "    \"P\" : AAChemTypes.special,  \n",
    "}\n",
    "\n",
    "def chem_dist(k1, k2):\n",
    "    val = 0\n",
    "    for ind, char in enumerate(k1):\n",
    "        if amino2chemistry[char] != amino2chemistry[k2[ind]]: val += 1\n",
    "    return val\n",
    "\n",
    "def jaccard_distance_string(k1,k2):\n",
    "    k1, k2 = list(k1), list(k2)\n",
    "    intersection = len(set(k1).intersection(set(k2)))\n",
    "    union = len(set(k1).union(set(k2)))\n",
    "    return (union-intersection) / union\n",
    "\n",
    "def sub_jaccard_dist(k1,k2):\n",
    "    k = len(k1)-3\n",
    "    jaccard_distances = []\n",
    "    for i in range(0,len(k1)-k):\n",
    "        jaccard_distances.append(jaccard_distance_string(k1[i:i+k],k2[i:i+k]))\n",
    "    return np.average(jaccard_distances)\n",
    "\n",
    "def levenshteinDistance(s1, s2):\n",
    "    if len(s1) > len(s2):\n",
    "        s1, s2 = s2, s1\n",
    "\n",
    "    distances = range(len(s1) + 1)\n",
    "    for i2, c2 in enumerate(s2):\n",
    "        distances_ = [i2+1]\n",
    "        for i1, c1 in enumerate(s1):\n",
    "            if amino2chemistry[c1] == amino2chemistry[c2]:\n",
    "                distances_.append(distances[i1])\n",
    "            else:\n",
    "                distances_.append(1 + min((distances[i1], distances[i1 + 1], distances_[-1])))\n",
    "        distances = distances_\n",
    "    return distances[-1]\n",
    "\n",
    "def levenshteinDistance2(s1, s2):\n",
    "    if len(s1) > len(s2):\n",
    "        s1, s2 = s2, s1\n",
    "\n",
    "    distances = range(len(s1) + 1)\n",
    "    for i2, c2 in enumerate(s2):\n",
    "        distances_ = [i2+1]\n",
    "        for i1, c1 in enumerate(s1):\n",
    "            if c1 == c2:\n",
    "                distances_.append(distances[i1])\n",
    "            else:\n",
    "                distances_.append(1 + min((distances[i1], distances[i1 + 1], distances_[-1])))\n",
    "        distances = distances_\n",
    "    return distances[-1]\n",
    "\n",
    "def multiple(k1,k2):\n",
    "    return chem_dist(k1, k2) + hamming_dist(k1,k2)\n",
    "\n",
    "def avg_secondary_dist_calc(k1,k2,hash_table, distance_metric=hamming_dist):\n",
    "    sec_dist = []\n",
    "    for secondary_seq1 in hash_table[k1].keys():\n",
    "        for secondary_seq2 in hash_table[k2].keys():\n",
    "            sec_dist.append(distance_metric(secondary_seq1, secondary_seq2))\n",
    "    return np.average(sec_dist)\n",
    "\n",
    "def jaccard_distance(k1,k2,hash_table):\n",
    "    intersection = len(set(hash_table[k1].keys()).intersection(set(hash_table[k2].keys())))\n",
    "    union = len(set(hash_table[k1].keys()).union(set(hash_table[k2].keys())))\n",
    "    return intersection / max(len(hash_table[k1].keys()), len(hash_table[k2].keys()))#(union-intersection) / union"
   ]
  },
  {
   "cell_type": "code",
   "execution_count": 133,
   "id": "d0a00324",
   "metadata": {},
   "outputs": [
    {
     "name": "stderr",
     "output_type": "stream",
     "text": [
      "100%|███████████████████████████████████████████████████████████████████████████████████████████████████████████████████| 200/200 [00:00<00:00, 291.69it/s]\n"
     ]
    }
   ],
   "source": [
    "distance_metric = levenshteinDistance2\n",
    "sec_dist_metric = jaccard_distance\n",
    "distance = []\n",
    "for primary_seq1 in tqdm(hash_table.keys()):\n",
    "    for primary_seq2 in hash_table.keys():\n",
    "        primary_dist = distance_metric(primary_seq1, primary_seq2)\n",
    "        secondary_dist = sec_dist_metric(primary_seq1,primary_seq2,hash_table)\n",
    "        # save info\n",
    "        distance.append((primary_dist, secondary_dist))"
   ]
  },
  {
   "cell_type": "code",
   "execution_count": 134,
   "id": "97933967",
   "metadata": {},
   "outputs": [],
   "source": [
    "primary_dist_array, secondary_dist_array = zip(*distance)"
   ]
  },
  {
   "cell_type": "code",
   "execution_count": 135,
   "id": "6ecfac41",
   "metadata": {},
   "outputs": [
    {
     "data": {
      "text/plain": [
       "Text(0.5, 0, 'Hamming distance between primary protein sequences')"
      ]
     },
     "execution_count": 135,
     "metadata": {},
     "output_type": "execute_result"
    },
    {
     "data": {
      "image/png": "[encoded data removed]",
      "text/plain": [
       "<Figure size 432x288 with 1 Axes>"
      ]
     },
     "metadata": {
      "needs_background": "light"
     },
     "output_type": "display_data"
    }
   ],
   "source": [
    "plt.scatter(primary_dist_array, secondary_dist_array)\n",
    "plt.ylabel(\"% of shared 3-state secondary structures\")\n",
    "plt.xlabel(\"Hamming distance between primary protein sequences\")"
   ]
  },
  {
   "cell_type": "code",
   "execution_count": null,
   "id": "7429518f",
   "metadata": {},
   "outputs": [],
   "source": [
    "for ind, values in enumerate(primary_dist_array):\n",
    "    if values == 4:\n",
    "        print(\"FUCKLCLCLCLCL\")"
   ]
  },
  {
   "cell_type": "code",
   "execution_count": null,
   "id": "c55bc2c5",
   "metadata": {},
   "outputs": [],
   "source": [
    "assert hamming_dist(\"Dreycey\", \"Dreycey\") == 0\n",
    "assert hamming_dist(\"Dreycey\", \"Deeycey\") == 1\n",
    "assert hamming_dist(\"Dreycey\", \"Deyceey\") == 4"
   ]
  },
  {
   "cell_type": "code",
   "execution_count": null,
   "id": "76f135b0",
   "metadata": {},
   "outputs": [],
   "source": []
  }
 ],
 "metadata": {
  "kernelspec": {
   "display_name": "Python 3 (ipykernel)",
   "language": "python",
   "name": "python3"
  },
  "language_info": {
   "codemirror_mode": {
    "name": "ipython",
    "version": 3
   },
   "file_extension": ".py",
   "mimetype": "text/x-python",
   "name": "python",
   "nbconvert_exporter": "python",
   "pygments_lexer": "ipython3",
   "version": "3.9.7"
  }
 },
 "nbformat": 4,
 "nbformat_minor": 5
}
